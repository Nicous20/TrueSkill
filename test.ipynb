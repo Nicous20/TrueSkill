{
 "cells": [
  {
   "cell_type": "code",
   "execution_count": 1,
   "outputs": [
    {
     "name": "stdout",
     "output_type": "stream",
     "text": [
      "This match seems to be not so fair\n"
     ]
    }
   ],
   "source": [
    "from trueskill import Rating, quality_1vs1, rate_1vs1\n",
    "alice, bob = Rating(25), Rating(30)  # assign Alice and Bob's ratings\n",
    "if quality_1vs1(alice, bob) < 0.50:\n",
    "    print('This match seems to be not so fair')\n",
    "alice, bob = rate_1vs1(alice, bob)  # update the ratings after the match"
   ],
   "metadata": {
    "collapsed": false,
    "pycharm": {
     "name": "#%%\n"
    }
   }
  },
  {
   "cell_type": "code",
   "execution_count": 2,
   "outputs": [
    {
     "data": {
      "text/plain": "trueskill.Rating(mu=25.000, sigma=8.333)",
      "text/latex": "$\\mathcal{ N }( 25.000, 8.333^2 )$"
     },
     "execution_count": 2,
     "metadata": {},
     "output_type": "execute_result"
    }
   ],
   "source": [
    "import trueskill\n",
    "from trueskill import Rating\n",
    "Rating()  # use the default mu and sigma\n",
    "trueskill.Rating(mu=25.000, sigma=8.333)"
   ],
   "metadata": {
    "collapsed": false,
    "pycharm": {
     "name": "#%%\n"
    }
   }
  },
  {
   "cell_type": "code",
   "execution_count": 3,
   "outputs": [
    {
     "name": "stdout",
     "output_type": "stream",
     "text": [
      "44.7% chance to draw\n"
     ]
    }
   ],
   "source": [
    "r1 = Rating()\n",
    "r2 = Rating()\n",
    "\n",
    "print('{:.1%} chance to draw'.format(quality_1vs1(r1, r2)))"
   ],
   "metadata": {
    "collapsed": false,
    "pycharm": {
     "name": "#%%\n"
    }
   }
  },
  {
   "cell_type": "markdown",
   "source": [
    "##b1 beat b2"
   ],
   "metadata": {
    "collapsed": false,
    "pycharm": {
     "name": "#%% md\n"
    }
   }
  },
  {
   "cell_type": "code",
   "execution_count": 4,
   "outputs": [
    {
     "name": "stdout",
     "output_type": "stream",
     "text": [
      "trueskill.Rating(mu=29.396, sigma=7.171)\n",
      "trueskill.Rating(mu=20.604, sigma=7.171)\n"
     ]
    },
    {
     "data": {
      "text/plain": "trueskill.Rating(mu=20.604, sigma=7.171)",
      "text/latex": "$\\mathcal{ N }( 20.604, 7.171^2 )$"
     },
     "execution_count": 4,
     "metadata": {},
     "output_type": "execute_result"
    }
   ],
   "source": [
    "new_r1, new_r2 = rate_1vs1(r1, r2)\n",
    "print(new_r1)\n",
    "trueskill.Rating(mu=29.396, sigma=7.171)\n",
    "print(new_r2)\n",
    "trueskill.Rating(mu=20.604, sigma=7.171)"
   ],
   "metadata": {
    "collapsed": false,
    "pycharm": {
     "name": "#%%\n"
    }
   }
  },
  {
   "cell_type": "code",
   "execution_count": 31,
   "outputs": [
    {
     "name": "stdout",
     "output_type": "stream",
     "text": [
      "1\n",
      "3\n",
      "2\n"
     ]
    }
   ],
   "source": [
    "class test(object):\n",
    "    def __init__(self, num):\n",
    "        self.num = num\n",
    "\n",
    "    def __str__(self):\n",
    "        return \"{}\".format(str(self.num))\n",
    "\n",
    "a = test(1)\n",
    "b = test(3)\n",
    "c = test(2)\n",
    "\n",
    "ls = [a, b, c]\n",
    "sorted(ls, key=lambda x:x.num, reverse=False)\n",
    "for i in ls:\n",
    "    print(i.num)"
   ],
   "metadata": {
    "collapsed": false,
    "pycharm": {
     "name": "#%%\n"
    }
   }
  },
  {
   "cell_type": "code",
   "execution_count": 12,
   "outputs": [
    {
     "name": "stdout",
     "output_type": "stream",
     "text": [
      "百年孤独           \t59        \n",
      "云边有个小卖部        \t49        \n",
      "高等数学           \t19.9      \n",
      "\n",
      "=====\n",
      "高等数学           \t19.9      \n",
      "云边有个小卖部        \t49        \n",
      "百年孤独           \t59        \n",
      "\n",
      "=====\n"
     ]
    }
   ],
   "source": [
    "class Book(object):\n",
    "    def __init__(self, book_name, book_price):\n",
    "        self.book_name = book_name\n",
    "        self.book_price = book_price\n",
    "\n",
    "    # 只是为了输出来展示结果，可写可不写\n",
    "    def __str__(self):\n",
    "        return \"{name:<15}\\t{price:<10}\".format(name=self.book_name, price=self.book_price)\n",
    "\n",
    "def show_book_list(book_list):\n",
    "    for book in book_list:\n",
    "        print(book)\n",
    "    print(\"\\n=====\")\n",
    "\n",
    "b1 = Book(\"百年孤独\", 59)\n",
    "b2 = Book(\"云边有个小卖部\", 49)\n",
    "b3 = Book(\"高等数学\", 19.9)\n",
    "\n",
    "book_list = [b1, b2, b3]\n",
    "show_book_list(book_list)\n",
    "\n",
    "book_list_sort = sorted(book_list, key=lambda x:x.book_price, reverse=False)\n",
    "show_book_list(book_list_sort)"
   ],
   "metadata": {
    "collapsed": false,
    "pycharm": {
     "name": "#%%\n"
    }
   }
  },
  {
   "cell_type": "code",
   "execution_count": 19,
   "outputs": [
    {
     "data": {
      "text/plain": "    rank folder_name score comparison_time\n0    NaN         NaN   NaN             NaN\n1    NaN         NaN   NaN             NaN\n2    NaN         NaN   NaN             NaN\n3      1           1     1               1\n4    NaN         NaN   NaN             NaN\n..   ...         ...   ...             ...\n495  NaN         NaN   NaN             NaN\n496  NaN         NaN   NaN             NaN\n497  NaN         NaN   NaN             NaN\n498  NaN         NaN   NaN             NaN\n499  NaN         NaN   NaN             NaN\n\n[500 rows x 4 columns]",
      "text/html": "<div>\n<style scoped>\n    .dataframe tbody tr th:only-of-type {\n        vertical-align: middle;\n    }\n\n    .dataframe tbody tr th {\n        vertical-align: top;\n    }\n\n    .dataframe thead th {\n        text-align: right;\n    }\n</style>\n<table border=\"1\" class=\"dataframe\">\n  <thead>\n    <tr style=\"text-align: right;\">\n      <th></th>\n      <th>rank</th>\n      <th>folder_name</th>\n      <th>score</th>\n      <th>comparison_time</th>\n    </tr>\n  </thead>\n  <tbody>\n    <tr>\n      <th>0</th>\n      <td>NaN</td>\n      <td>NaN</td>\n      <td>NaN</td>\n      <td>NaN</td>\n    </tr>\n    <tr>\n      <th>1</th>\n      <td>NaN</td>\n      <td>NaN</td>\n      <td>NaN</td>\n      <td>NaN</td>\n    </tr>\n    <tr>\n      <th>2</th>\n      <td>NaN</td>\n      <td>NaN</td>\n      <td>NaN</td>\n      <td>NaN</td>\n    </tr>\n    <tr>\n      <th>3</th>\n      <td>1</td>\n      <td>1</td>\n      <td>1</td>\n      <td>1</td>\n    </tr>\n    <tr>\n      <th>4</th>\n      <td>NaN</td>\n      <td>NaN</td>\n      <td>NaN</td>\n      <td>NaN</td>\n    </tr>\n    <tr>\n      <th>...</th>\n      <td>...</td>\n      <td>...</td>\n      <td>...</td>\n      <td>...</td>\n    </tr>\n    <tr>\n      <th>495</th>\n      <td>NaN</td>\n      <td>NaN</td>\n      <td>NaN</td>\n      <td>NaN</td>\n    </tr>\n    <tr>\n      <th>496</th>\n      <td>NaN</td>\n      <td>NaN</td>\n      <td>NaN</td>\n      <td>NaN</td>\n    </tr>\n    <tr>\n      <th>497</th>\n      <td>NaN</td>\n      <td>NaN</td>\n      <td>NaN</td>\n      <td>NaN</td>\n    </tr>\n    <tr>\n      <th>498</th>\n      <td>NaN</td>\n      <td>NaN</td>\n      <td>NaN</td>\n      <td>NaN</td>\n    </tr>\n    <tr>\n      <th>499</th>\n      <td>NaN</td>\n      <td>NaN</td>\n      <td>NaN</td>\n      <td>NaN</td>\n    </tr>\n  </tbody>\n</table>\n<p>500 rows × 4 columns</p>\n</div>"
     },
     "execution_count": 19,
     "metadata": {},
     "output_type": "execute_result"
    }
   ],
   "source": [
    "import pandas as pd\n",
    "import numpy as np\n",
    "xsl = pd.DataFrame(index=range(500), columns=['rank', 'folder_name', 'score', 'comparison_time'])\n",
    "\n",
    "# xsl = xsl.loc([1,1,1,1])\n",
    "xsl.loc[3] = [1, 1, 1, 1]\n",
    "xsl\n"
   ],
   "metadata": {
    "collapsed": false,
    "pycharm": {
     "name": "#%%\n"
    }
   }
  },
  {
   "cell_type": "code",
   "execution_count": 24,
   "outputs": [
    {
     "data": {
      "text/plain": "4"
     },
     "execution_count": 24,
     "metadata": {},
     "output_type": "execute_result"
    }
   ],
   "source": [
    "dic = {1 : 2, 3 : 4}\n",
    "dic[3]"
   ],
   "metadata": {
    "collapsed": false,
    "pycharm": {
     "name": "#%%\n"
    }
   }
  },
  {
   "cell_type": "code",
   "execution_count": 68,
   "outputs": [
    {
     "data": {
      "text/plain": "   ad        sd\n0   1  0.447214\n1   2  0.894427",
      "text/html": "<div>\n<style scoped>\n    .dataframe tbody tr th:only-of-type {\n        vertical-align: middle;\n    }\n\n    .dataframe tbody tr th {\n        vertical-align: top;\n    }\n\n    .dataframe thead th {\n        text-align: right;\n    }\n</style>\n<table border=\"1\" class=\"dataframe\">\n  <thead>\n    <tr style=\"text-align: right;\">\n      <th></th>\n      <th>ad</th>\n      <th>sd</th>\n    </tr>\n  </thead>\n  <tbody>\n    <tr>\n      <th>0</th>\n      <td>1</td>\n      <td>0.447214</td>\n    </tr>\n    <tr>\n      <th>1</th>\n      <td>2</td>\n      <td>0.894427</td>\n    </tr>\n  </tbody>\n</table>\n</div>"
     },
     "execution_count": 68,
     "metadata": {},
     "output_type": "execute_result"
    }
   ],
   "source": [
    "import pandas as pd\n",
    "dt = pd.DataFrame(columns=['ad', 'sd'])\n",
    "dt.loc[0] = [1, 2]\n",
    "dt.loc[1] = [2, 4]\n",
    "\n",
    "from sklearn import preprocessing\n",
    "v = np.array(dt['sd'])\n",
    "v = preprocessing.normalize([v])\n",
    "v\n",
    "dt['sd'] = v[0]\n",
    "\n",
    "dt\n",
    "\n",
    "\n"
   ],
   "metadata": {
    "collapsed": false,
    "pycharm": {
     "name": "#%%\n"
    }
   }
  },
  {
   "cell_type": "code",
   "execution_count": 47,
   "outputs": [
    {
     "name": "stdout",
     "output_type": "stream",
     "text": [
      "[2 3 5 6 7 4 8 7 6]\n",
      "[[0.11785113 0.1767767  0.29462783 0.35355339 0.41247896 0.23570226\n",
      "  0.47140452 0.41247896 0.35355339]]\n"
     ]
    }
   ],
   "source": [
    "from sklearn import preprocessing\n",
    "x_array = np.array([2,3,5,6,7,4,8,7,6])\n",
    "print(x_array)\n",
    "normalized_arr = preprocessing.normalize([x_array])\n",
    "print(normalized_arr)"
   ],
   "metadata": {
    "collapsed": false,
    "pycharm": {
     "name": "#%%\n"
    }
   }
  }
 ],
 "metadata": {
  "kernelspec": {
   "display_name": "Python 3",
   "language": "python",
   "name": "python3"
  },
  "language_info": {
   "codemirror_mode": {
    "name": "ipython",
    "version": 2
   },
   "file_extension": ".py",
   "mimetype": "text/x-python",
   "name": "python",
   "nbconvert_exporter": "python",
   "pygments_lexer": "ipython2",
   "version": "2.7.6"
  }
 },
 "nbformat": 4,
 "nbformat_minor": 0
}